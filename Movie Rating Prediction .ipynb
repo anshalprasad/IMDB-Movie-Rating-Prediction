{
 "cells": [
  {
   "cell_type": "markdown",
   "metadata": {},
   "source": [
    "# Importing packages "
   ]
  },
  {
   "cell_type": "code",
   "execution_count": 1,
   "metadata": {},
   "outputs": [],
   "source": [
    "# data analysis and wrangling\n",
    "import pandas as pd\n",
    "import numpy as np\n",
    "import random as rnd\n",
    "import math\n",
    "\n",
    "# visualization\n",
    "import seaborn as sns\n",
    "import matplotlib.pyplot as plt\n",
    "%matplotlib inline\n",
    "\n",
    "# machine learning\n",
    "from sklearn.model_selection import train_test_split\n",
    "from sklearn.svm import SVR \n",
    "from sklearn.ensemble import RandomForestRegressor\n",
    "from sklearn.tree import DecisionTreeRegressor\n",
    "from sklearn.linear_model import LinearRegression\n",
    "\n",
    "#import metrics\n",
    "from sklearn.metrics import r2_score"
   ]
  },
  {
   "cell_type": "markdown",
   "metadata": {},
   "source": [
    "# Loading the dataset"
   ]
  },
  {
   "cell_type": "code",
   "execution_count": 2,
   "metadata": {},
   "outputs": [],
   "source": [
    "df = pd.read_csv('movie_metadata.csv')"
   ]
  },
  {
   "cell_type": "markdown",
   "metadata": {},
   "source": [
    "#### Display first 5 rows of the dataset"
   ]
  },
  {
   "cell_type": "code",
   "execution_count": 3,
   "metadata": {},
   "outputs": [
    {
     "data": {
      "text/html": [
       "<div>\n",
       "<style scoped>\n",
       "    .dataframe tbody tr th:only-of-type {\n",
       "        vertical-align: middle;\n",
       "    }\n",
       "\n",
       "    .dataframe tbody tr th {\n",
       "        vertical-align: top;\n",
       "    }\n",
       "\n",
       "    .dataframe thead th {\n",
       "        text-align: right;\n",
       "    }\n",
       "</style>\n",
       "<table border=\"1\" class=\"dataframe\">\n",
       "  <thead>\n",
       "    <tr style=\"text-align: right;\">\n",
       "      <th></th>\n",
       "      <th>color</th>\n",
       "      <th>director_name</th>\n",
       "      <th>num_critic_for_reviews</th>\n",
       "      <th>duration</th>\n",
       "      <th>director_facebook_likes</th>\n",
       "      <th>actor_3_facebook_likes</th>\n",
       "      <th>actor_2_name</th>\n",
       "      <th>actor_1_facebook_likes</th>\n",
       "      <th>gross</th>\n",
       "      <th>genres</th>\n",
       "      <th>...</th>\n",
       "      <th>num_user_for_reviews</th>\n",
       "      <th>language</th>\n",
       "      <th>country</th>\n",
       "      <th>content_rating</th>\n",
       "      <th>budget</th>\n",
       "      <th>title_year</th>\n",
       "      <th>actor_2_facebook_likes</th>\n",
       "      <th>imdb_score</th>\n",
       "      <th>aspect_ratio</th>\n",
       "      <th>movie_facebook_likes</th>\n",
       "    </tr>\n",
       "  </thead>\n",
       "  <tbody>\n",
       "    <tr>\n",
       "      <th>0</th>\n",
       "      <td>Color</td>\n",
       "      <td>James Cameron</td>\n",
       "      <td>723.0</td>\n",
       "      <td>178.0</td>\n",
       "      <td>0.0</td>\n",
       "      <td>855.0</td>\n",
       "      <td>Joel David Moore</td>\n",
       "      <td>1000.0</td>\n",
       "      <td>760505847.0</td>\n",
       "      <td>Action|Adventure|Fantasy|Sci-Fi</td>\n",
       "      <td>...</td>\n",
       "      <td>3054.0</td>\n",
       "      <td>English</td>\n",
       "      <td>USA</td>\n",
       "      <td>PG-13</td>\n",
       "      <td>237000000.0</td>\n",
       "      <td>2009.0</td>\n",
       "      <td>936.0</td>\n",
       "      <td>7.9</td>\n",
       "      <td>1.78</td>\n",
       "      <td>33000</td>\n",
       "    </tr>\n",
       "    <tr>\n",
       "      <th>1</th>\n",
       "      <td>Color</td>\n",
       "      <td>Gore Verbinski</td>\n",
       "      <td>302.0</td>\n",
       "      <td>169.0</td>\n",
       "      <td>563.0</td>\n",
       "      <td>1000.0</td>\n",
       "      <td>Orlando Bloom</td>\n",
       "      <td>40000.0</td>\n",
       "      <td>309404152.0</td>\n",
       "      <td>Action|Adventure|Fantasy</td>\n",
       "      <td>...</td>\n",
       "      <td>1238.0</td>\n",
       "      <td>English</td>\n",
       "      <td>USA</td>\n",
       "      <td>PG-13</td>\n",
       "      <td>300000000.0</td>\n",
       "      <td>2007.0</td>\n",
       "      <td>5000.0</td>\n",
       "      <td>7.1</td>\n",
       "      <td>2.35</td>\n",
       "      <td>0</td>\n",
       "    </tr>\n",
       "    <tr>\n",
       "      <th>2</th>\n",
       "      <td>Color</td>\n",
       "      <td>Sam Mendes</td>\n",
       "      <td>602.0</td>\n",
       "      <td>148.0</td>\n",
       "      <td>0.0</td>\n",
       "      <td>161.0</td>\n",
       "      <td>Rory Kinnear</td>\n",
       "      <td>11000.0</td>\n",
       "      <td>200074175.0</td>\n",
       "      <td>Action|Adventure|Thriller</td>\n",
       "      <td>...</td>\n",
       "      <td>994.0</td>\n",
       "      <td>English</td>\n",
       "      <td>UK</td>\n",
       "      <td>PG-13</td>\n",
       "      <td>245000000.0</td>\n",
       "      <td>2015.0</td>\n",
       "      <td>393.0</td>\n",
       "      <td>6.8</td>\n",
       "      <td>2.35</td>\n",
       "      <td>85000</td>\n",
       "    </tr>\n",
       "    <tr>\n",
       "      <th>3</th>\n",
       "      <td>Color</td>\n",
       "      <td>Christopher Nolan</td>\n",
       "      <td>813.0</td>\n",
       "      <td>164.0</td>\n",
       "      <td>22000.0</td>\n",
       "      <td>23000.0</td>\n",
       "      <td>Christian Bale</td>\n",
       "      <td>27000.0</td>\n",
       "      <td>448130642.0</td>\n",
       "      <td>Action|Thriller</td>\n",
       "      <td>...</td>\n",
       "      <td>2701.0</td>\n",
       "      <td>English</td>\n",
       "      <td>USA</td>\n",
       "      <td>PG-13</td>\n",
       "      <td>250000000.0</td>\n",
       "      <td>2012.0</td>\n",
       "      <td>23000.0</td>\n",
       "      <td>8.5</td>\n",
       "      <td>2.35</td>\n",
       "      <td>164000</td>\n",
       "    </tr>\n",
       "    <tr>\n",
       "      <th>4</th>\n",
       "      <td>NaN</td>\n",
       "      <td>Doug Walker</td>\n",
       "      <td>NaN</td>\n",
       "      <td>NaN</td>\n",
       "      <td>131.0</td>\n",
       "      <td>NaN</td>\n",
       "      <td>Rob Walker</td>\n",
       "      <td>131.0</td>\n",
       "      <td>NaN</td>\n",
       "      <td>Documentary</td>\n",
       "      <td>...</td>\n",
       "      <td>NaN</td>\n",
       "      <td>NaN</td>\n",
       "      <td>NaN</td>\n",
       "      <td>NaN</td>\n",
       "      <td>NaN</td>\n",
       "      <td>NaN</td>\n",
       "      <td>12.0</td>\n",
       "      <td>7.1</td>\n",
       "      <td>NaN</td>\n",
       "      <td>0</td>\n",
       "    </tr>\n",
       "  </tbody>\n",
       "</table>\n",
       "<p>5 rows × 28 columns</p>\n",
       "</div>"
      ],
      "text/plain": [
       "   color      director_name  num_critic_for_reviews  duration  \\\n",
       "0  Color      James Cameron                   723.0     178.0   \n",
       "1  Color     Gore Verbinski                   302.0     169.0   \n",
       "2  Color         Sam Mendes                   602.0     148.0   \n",
       "3  Color  Christopher Nolan                   813.0     164.0   \n",
       "4    NaN        Doug Walker                     NaN       NaN   \n",
       "\n",
       "   director_facebook_likes  actor_3_facebook_likes      actor_2_name  \\\n",
       "0                      0.0                   855.0  Joel David Moore   \n",
       "1                    563.0                  1000.0     Orlando Bloom   \n",
       "2                      0.0                   161.0      Rory Kinnear   \n",
       "3                  22000.0                 23000.0    Christian Bale   \n",
       "4                    131.0                     NaN        Rob Walker   \n",
       "\n",
       "   actor_1_facebook_likes        gross                           genres  ...  \\\n",
       "0                  1000.0  760505847.0  Action|Adventure|Fantasy|Sci-Fi  ...   \n",
       "1                 40000.0  309404152.0         Action|Adventure|Fantasy  ...   \n",
       "2                 11000.0  200074175.0        Action|Adventure|Thriller  ...   \n",
       "3                 27000.0  448130642.0                  Action|Thriller  ...   \n",
       "4                   131.0          NaN                      Documentary  ...   \n",
       "\n",
       "  num_user_for_reviews language  country  content_rating       budget  \\\n",
       "0               3054.0  English      USA           PG-13  237000000.0   \n",
       "1               1238.0  English      USA           PG-13  300000000.0   \n",
       "2                994.0  English       UK           PG-13  245000000.0   \n",
       "3               2701.0  English      USA           PG-13  250000000.0   \n",
       "4                  NaN      NaN      NaN             NaN          NaN   \n",
       "\n",
       "   title_year actor_2_facebook_likes imdb_score  aspect_ratio  \\\n",
       "0      2009.0                  936.0        7.9          1.78   \n",
       "1      2007.0                 5000.0        7.1          2.35   \n",
       "2      2015.0                  393.0        6.8          2.35   \n",
       "3      2012.0                23000.0        8.5          2.35   \n",
       "4         NaN                   12.0        7.1           NaN   \n",
       "\n",
       "  movie_facebook_likes  \n",
       "0                33000  \n",
       "1                    0  \n",
       "2                85000  \n",
       "3               164000  \n",
       "4                    0  \n",
       "\n",
       "[5 rows x 28 columns]"
      ]
     },
     "execution_count": 3,
     "metadata": {},
     "output_type": "execute_result"
    }
   ],
   "source": [
    "df.head()"
   ]
  },
  {
   "cell_type": "markdown",
   "metadata": {},
   "source": [
    "#### Columns of the dataset"
   ]
  },
  {
   "cell_type": "code",
   "execution_count": 4,
   "metadata": {},
   "outputs": [
    {
     "data": {
      "text/plain": [
       "Index(['color', 'director_name', 'num_critic_for_reviews', 'duration',\n",
       "       'director_facebook_likes', 'actor_3_facebook_likes', 'actor_2_name',\n",
       "       'actor_1_facebook_likes', 'gross', 'genres', 'actor_1_name',\n",
       "       'movie_title', 'num_voted_users', 'cast_total_facebook_likes',\n",
       "       'actor_3_name', 'facenumber_in_poster', 'plot_keywords',\n",
       "       'movie_imdb_link', 'num_user_for_reviews', 'language', 'country',\n",
       "       'content_rating', 'budget', 'title_year', 'actor_2_facebook_likes',\n",
       "       'imdb_score', 'aspect_ratio', 'movie_facebook_likes'],\n",
       "      dtype='object')"
      ]
     },
     "execution_count": 4,
     "metadata": {},
     "output_type": "execute_result"
    }
   ],
   "source": [
    "df.columns"
   ]
  },
  {
   "cell_type": "markdown",
   "metadata": {},
   "source": [
    "#### Dropping rows with null values"
   ]
  },
  {
   "cell_type": "code",
   "execution_count": 5,
   "metadata": {},
   "outputs": [],
   "source": [
    "df.dropna(inplace=True)"
   ]
  },
  {
   "cell_type": "markdown",
   "metadata": {},
   "source": [
    "# Histogram of IMDB Rating"
   ]
  },
  {
   "cell_type": "code",
   "execution_count": 36,
   "metadata": {},
   "outputs": [
    {
     "name": "stderr",
     "output_type": "stream",
     "text": [
      "/Users/goat_10/opt/anaconda3/lib/python3.8/site-packages/seaborn/distributions.py:2551: FutureWarning: `distplot` is a deprecated function and will be removed in a future version. Please adapt your code to use either `displot` (a figure-level function with similar flexibility) or `histplot` (an axes-level function for histograms).\n",
      "  warnings.warn(msg, FutureWarning)\n",
      "/Users/goat_10/opt/anaconda3/lib/python3.8/site-packages/seaborn/distributions.py:1659: FutureWarning: The `bw` parameter is deprecated in favor of `bw_method` and `bw_adjust`. Using 0.25 for `bw_method`, but please see the docs for the new parameters and update your code.\n",
      "  warnings.warn(msg, FutureWarning)\n"
     ]
    },
    {
     "data": {
      "text/plain": [
       "Text(0.5, 1.0, 'Distribution of Movie Ratings')"
      ]
     },
     "execution_count": 36,
     "metadata": {},
     "output_type": "execute_result"
    },
    {
     "data": {
      "image/png": "[encoded data removed]",
      "text/plain": [
       "<Figure size 1224x576 with 1 Axes>"
      ]
     },
     "metadata": {
      "needs_background": "light"
     },
     "output_type": "display_data"
    }
   ],
   "source": [
    "plt.figure(figsize=(17,8))\n",
    "ax = sns.distplot(df['imdb_score'], bins=9, kde_kws={\"bw\": 0.25}, \n",
    "                  axlabel='Movie Ratings')\n",
    "ax.set(xlim=(0, 10))\n",
    "ax.set_title(\"Distribution of Movie Ratings\",fontsize = 20)"
   ]
  },
  {
   "cell_type": "markdown",
   "metadata": {},
   "source": [
    "# Dropping unnescessary columns for predicting IMDB Rating"
   ]
  },
  {
   "cell_type": "code",
   "execution_count": 7,
   "metadata": {},
   "outputs": [],
   "source": [
    "#these feature has no or the least impact on the movie rating so droping these column\n",
    "df=df.drop(columns=['movie_imdb_link','color','movie_title','facenumber_in_poster', 'plot_keywords',\n",
    "                    'actor_3_name','movie_imdb_link','aspect_ratio','language'])"
   ]
  },
  {
   "cell_type": "code",
   "execution_count": 8,
   "metadata": {},
   "outputs": [
    {
     "data": {
      "text/plain": [
       "Index(['director_name', 'num_critic_for_reviews', 'duration',\n",
       "       'director_facebook_likes', 'actor_3_facebook_likes', 'actor_2_name',\n",
       "       'actor_1_facebook_likes', 'gross', 'genres', 'actor_1_name',\n",
       "       'num_voted_users', 'cast_total_facebook_likes', 'num_user_for_reviews',\n",
       "       'country', 'content_rating', 'budget', 'title_year',\n",
       "       'actor_2_facebook_likes', 'imdb_score', 'movie_facebook_likes'],\n",
       "      dtype='object')"
      ]
     },
     "execution_count": 8,
     "metadata": {},
     "output_type": "execute_result"
    }
   ],
   "source": [
    "df.columns"
   ]
  },
  {
   "cell_type": "markdown",
   "metadata": {},
   "source": [
    "# Comparison Graph ( Number of Movies per Content Rating )"
   ]
  },
  {
   "cell_type": "code",
   "execution_count": 9,
   "metadata": {},
   "outputs": [
    {
     "data": {
      "image/png": "[encoded data removed]",
      "text/plain": [
       "<Figure size 864x432 with 1 Axes>"
      ]
     },
     "metadata": {
      "needs_background": "light"
     },
     "output_type": "display_data"
    }
   ],
   "source": [
    "plt.figure(figsize=(12,6))\n",
    "df['content_rating'].value_counts().plot.bar().set_title(\"Number of Movies per Content Rating\",fontsize=13,fontweight=\"bold\")\n",
    "plt.xticks(fontsize = 13)\n",
    "plt.show()"
   ]
  },
  {
   "cell_type": "markdown",
   "metadata": {},
   "source": [
    "# Replacing String Value with Float Value"
   ]
  },
  {
   "cell_type": "code",
   "execution_count": 10,
   "metadata": {},
   "outputs": [],
   "source": [
    "from sklearn import preprocessing\n",
    "le = preprocessing.LabelEncoder()\n",
    "\n",
    "df['content_rating']=le.fit_transform(df['content_rating'].values)\n",
    "df['director_name']=le.fit_transform(df['director_name'].values)\n",
    "df['genres']=le.fit_transform(df['genres'].values)\n",
    "\n",
    "df['actor_1_name']=le.fit_transform(df['actor_1_name'].values)\n",
    "df['actor_2_name']=le.fit_transform(df['actor_2_name'].values)\n",
    "df['country']=le.fit_transform(df['country'].values)"
   ]
  },
  {
   "cell_type": "code",
   "execution_count": 11,
   "metadata": {},
   "outputs": [
    {
     "data": {
      "text/plain": [
       "<bound method NDFrame.head of       director_name  num_critic_for_reviews  duration  \\\n",
       "0               620                   723.0     178.0   \n",
       "1               538                   302.0     169.0   \n",
       "2              1395                   602.0     148.0   \n",
       "3               251                   813.0     164.0   \n",
       "5                62                   462.0     132.0   \n",
       "...             ...                     ...       ...   \n",
       "5026           1167                    81.0     110.0   \n",
       "5027            612                    64.0      90.0   \n",
       "5033           1425                   143.0      77.0   \n",
       "5035           1343                    56.0      81.0   \n",
       "5042            791                    43.0      90.0   \n",
       "\n",
       "      director_facebook_likes  actor_3_facebook_likes  actor_2_name  \\\n",
       "0                         0.0                   855.0          1002   \n",
       "1                       563.0                  1000.0          1592   \n",
       "2                         0.0                   161.0          1795   \n",
       "3                     22000.0                 23000.0           381   \n",
       "5                       475.0                   530.0          1837   \n",
       "...                       ...                     ...           ...   \n",
       "5026                    107.0                    45.0           300   \n",
       "5027                    397.0                     0.0          1522   \n",
       "5033                    291.0                     8.0           518   \n",
       "5035                      0.0                     6.0          1655   \n",
       "5042                     16.0                    16.0           265   \n",
       "\n",
       "      actor_1_facebook_likes        gross  genres  actor_1_name  \\\n",
       "0                     1000.0  760505847.0      91           189   \n",
       "1                    40000.0  309404152.0      85           687   \n",
       "2                    11000.0  200074175.0     107           258   \n",
       "3                    27000.0  448130642.0     243          1340   \n",
       "5                      640.0   73058679.0     105           323   \n",
       "...                      ...          ...     ...           ...   \n",
       "5026                   576.0     136007.0     687           868   \n",
       "5027                     5.0     673780.0     635           450   \n",
       "5033                   291.0     424760.0     708          1233   \n",
       "5035                   121.0    2040920.0     168           198   \n",
       "5042                    86.0      85222.0     627           665   \n",
       "\n",
       "      num_voted_users  cast_total_facebook_likes  num_user_for_reviews  \\\n",
       "0              886204                       4834                3054.0   \n",
       "1              471220                      48350                1238.0   \n",
       "2              275868                      11700                 994.0   \n",
       "3             1144337                     106759                2701.0   \n",
       "5              212204                       1873                 738.0   \n",
       "...               ...                        ...                   ...   \n",
       "5026             3924                        776                  39.0   \n",
       "5027             4555                          5                  26.0   \n",
       "5033            72639                        368                 371.0   \n",
       "5035            52055                        147                 130.0   \n",
       "5042             4285                        163                  84.0   \n",
       "\n",
       "      country  content_rating       budget  title_year  \\\n",
       "0          43               7  237000000.0      2009.0   \n",
       "1          43               7  300000000.0      2007.0   \n",
       "2          42               7  245000000.0      2015.0   \n",
       "3          43               7  250000000.0      2012.0   \n",
       "5          43               7  263700000.0      2012.0   \n",
       "...       ...             ...          ...         ...   \n",
       "5026       13               9       4500.0      2004.0   \n",
       "5027       22               5      10000.0      2000.0   \n",
       "5033       43               7       7000.0      2004.0   \n",
       "5035       43               9       7000.0      1992.0   \n",
       "5042       43               6       1100.0      2004.0   \n",
       "\n",
       "      actor_2_facebook_likes  imdb_score  movie_facebook_likes  \n",
       "0                      936.0         7.9                 33000  \n",
       "1                     5000.0         7.1                     0  \n",
       "2                      393.0         6.8                 85000  \n",
       "3                    23000.0         8.5                164000  \n",
       "5                      632.0         6.6                 24000  \n",
       "...                      ...         ...                   ...  \n",
       "5026                   133.0         6.9                   171  \n",
       "5027                     0.0         7.5                   697  \n",
       "5033                    45.0         7.0                 19000  \n",
       "5035                    20.0         6.9                     0  \n",
       "5042                    23.0         6.6                   456  \n",
       "\n",
       "[3756 rows x 20 columns]>"
      ]
     },
     "execution_count": 11,
     "metadata": {},
     "output_type": "execute_result"
    }
   ],
   "source": [
    "df.head"
   ]
  },
  {
   "cell_type": "markdown",
   "metadata": {},
   "source": [
    "# Splitting Features and Value to be predicted"
   ]
  },
  {
   "cell_type": "code",
   "execution_count": 12,
   "metadata": {},
   "outputs": [],
   "source": [
    "y=df['imdb_score'].values\n",
    "x=df.loc[:, df.columns != 'imdb_score'].values"
   ]
  },
  {
   "cell_type": "markdown",
   "metadata": {},
   "source": [
    "# Splitting into Training and Testing Set"
   ]
  },
  {
   "cell_type": "code",
   "execution_count": 13,
   "metadata": {},
   "outputs": [],
   "source": [
    "X_train, X_test, Y_train, Y_test= train_test_split(x,y, test_size=0.2, random_state=0)"
   ]
  },
  {
   "cell_type": "markdown",
   "metadata": {},
   "source": [
    "# Prediction Models"
   ]
  },
  {
   "cell_type": "markdown",
   "metadata": {},
   "source": [
    "### Random Forest Regression -------------->"
   ]
  },
  {
   "cell_type": "code",
   "execution_count": 14,
   "metadata": {},
   "outputs": [
    {
     "data": {
      "text/plain": [
       "RandomForestRegressor(n_estimators=50)"
      ]
     },
     "execution_count": 14,
     "metadata": {},
     "output_type": "execute_result"
    }
   ],
   "source": [
    "rf=RandomForestRegressor(n_estimators=50)\n",
    "rf.fit(X_train,Y_train)"
   ]
  },
  {
   "cell_type": "code",
   "execution_count": 15,
   "metadata": {},
   "outputs": [],
   "source": [
    "predictions4 = rf.predict(X_test)"
   ]
  },
  {
   "cell_type": "code",
   "execution_count": 16,
   "metadata": {},
   "outputs": [
    {
     "name": "stdout",
     "output_type": "stream",
     "text": [
      "MAE : 0.52 degrees\n",
      "Accuracy : 90.54 %\n",
      "MSE : 0.49834743617021277\n",
      "RMSE : 0.7059372749545194\n",
      "R2 Score :  0.5769518681318516\n"
     ]
    }
   ],
   "source": [
    "#Calulate Error \n",
    "errors4 = abs(predictions4 - Y_test)\n",
    "\n",
    "#Calculate Mean Absolute Error \n",
    "MAE4 = round(np.mean(errors4), 2)\n",
    "print('MAE :', MAE4 , 'degrees')\n",
    "\n",
    "#Calculate Mean Absolute Percentage Error (MAPE)\n",
    "mape = 100 * (errors4 / Y_test)\n",
    "\n",
    "#Calculate  Accuracy\n",
    "accuracy4 = 100 - np.mean(mape)\n",
    "print('Accuracy :', round(accuracy4, 2), '%')\n",
    "\n",
    "#Calulate Mean Squared Error \n",
    "MSE4 = np.square(np.subtract(Y_test,predictions4)).mean()\n",
    "print(\"MSE : {}\".format(MSE4))\n",
    "\n",
    "#Calculate Root Mean Squared Method\n",
    "RMSE4 = math.sqrt(MSE4)\n",
    "print(\"RMSE : {}\".format(RMSE4))\n",
    "\n",
    "#Calculate R2 Score\n",
    "rsquared4 = r2_score(Y_test,predictions4)\n",
    "print(\"R2 Score : \",rsquared4)"
   ]
  },
  {
   "cell_type": "markdown",
   "metadata": {},
   "source": [
    "### Decision Tree Regression --------------->"
   ]
  },
  {
   "cell_type": "code",
   "execution_count": 17,
   "metadata": {},
   "outputs": [
    {
     "data": {
      "text/plain": [
       "DecisionTreeRegressor()"
      ]
     },
     "execution_count": 17,
     "metadata": {},
     "output_type": "execute_result"
    }
   ],
   "source": [
    "dr=DecisionTreeRegressor()\n",
    "dr.fit(X_train,Y_train)"
   ]
  },
  {
   "cell_type": "code",
   "execution_count": 18,
   "metadata": {},
   "outputs": [],
   "source": [
    "predictions2 = dr.predict(X_test)"
   ]
  },
  {
   "cell_type": "code",
   "execution_count": 19,
   "metadata": {},
   "outputs": [
    {
     "name": "stdout",
     "output_type": "stream",
     "text": [
      "MAE : 0.74 degrees\n",
      "Accuracy: 86.99 %\n",
      "MSE : 1.0714627659574467\n",
      "RMSE : 1.035114856408431\n",
      "R2 Score :  0.09043312234527667\n"
     ]
    }
   ],
   "source": [
    "#Calulate Error\n",
    "errors2 = abs(predictions2 - Y_test)\n",
    "\n",
    "#Calculate Mean Absolute Error\n",
    "MAE2 = round(np.mean(errors2), 2)\n",
    "print('MAE :', MAE2, 'degrees')\n",
    "\n",
    "#Calculate Mean Absolute Percentage Error (MAPE)\n",
    "mape = 100 * (errors2 / Y_test)\n",
    "\n",
    "#Calculate Accuracy\n",
    "accuracy2 = 100 - np.mean(mape)\n",
    "print('Accuracy:', round(accuracy2, 2), '%')\n",
    "\n",
    "#Calulate Mean Squared Error \n",
    "MSE2 = np.square(np.subtract(Y_test,predictions2)).mean()\n",
    "print(\"MSE : {}\".format(MSE2))\n",
    "\n",
    "#Calculate Root Mean Squared Method\n",
    "RMSE2 = math.sqrt(MSE2)\n",
    "print(\"RMSE : {}\".format(RMSE2))\n",
    "\n",
    "#Calculate R2 Score\n",
    "rsquared2 = r2_score(Y_test,predictions2)\n",
    "print(\"R2 Score : \",rsquared2)"
   ]
  },
  {
   "cell_type": "markdown",
   "metadata": {},
   "source": [
    "### Support Vector Machine --------------->"
   ]
  },
  {
   "cell_type": "code",
   "execution_count": 20,
   "metadata": {},
   "outputs": [
    {
     "data": {
      "text/plain": [
       "SVR()"
      ]
     },
     "execution_count": 20,
     "metadata": {},
     "output_type": "execute_result"
    }
   ],
   "source": [
    "svm=SVR()\n",
    "svm.fit(X_train,Y_train)"
   ]
  },
  {
   "cell_type": "code",
   "execution_count": 21,
   "metadata": {},
   "outputs": [],
   "source": [
    "predictions3 = svm.predict(X_test)"
   ]
  },
  {
   "cell_type": "code",
   "execution_count": 22,
   "metadata": {},
   "outputs": [
    {
     "name": "stdout",
     "output_type": "stream",
     "text": [
      "Mean Absolute Error: 0.78 degrees.\n",
      "Accuracy: 85.77 %.\n",
      "MSE : 1.0787437572701304\n",
      "RMSE : 1.0386258986132255\n",
      "R2 Score :  0.09043312234527667\n"
     ]
    }
   ],
   "source": [
    "#Calulate Error\n",
    "errors3 = abs(predictions3 - Y_test)\n",
    "\n",
    "#Calculate Mean Absolute Error\n",
    "MAE3 = round(np.mean(errors3), 2)\n",
    "print('Mean Absolute Error:', MAE3 , 'degrees.')\n",
    "\n",
    "#Calculate Mean Absolute Percentage Error (MAPE)\n",
    "mape = 100 * (errors3 / Y_test)\n",
    "\n",
    "#Calculate  Accuracy\n",
    "accuracy3 = 100 - np.mean(mape)\n",
    "print('Accuracy:', round(accuracy3, 2), '%.')\n",
    "\n",
    "#Calulate Mean Squared Error \n",
    "MSE3 = np.square(np.subtract(Y_test,predictions3)).mean()\n",
    "print(\"MSE : {}\".format(MSE3))\n",
    "\n",
    "#Calculate Root Mean Squared Method\n",
    "RMSE3 = math.sqrt(MSE3)\n",
    "print(\"RMSE : {}\".format(RMSE3))   \n",
    "\n",
    "#Calculate R2 Score\n",
    "rsquared3 = r2_score(Y_test,predictions3)\n",
    "print(\"R2 Score : \",rsquared2)"
   ]
  },
  {
   "cell_type": "markdown",
   "metadata": {},
   "source": [
    "### XG Boost ---------------->"
   ]
  },
  {
   "cell_type": "code",
   "execution_count": 23,
   "metadata": {},
   "outputs": [],
   "source": [
    "from xgboost import XGBRegressor\n",
    "xgboost=XGBRegressor(n_estimators=50)"
   ]
  },
  {
   "cell_type": "code",
   "execution_count": 24,
   "metadata": {},
   "outputs": [
    {
     "data": {
      "text/plain": [
       "XGBRegressor(base_score=0.5, booster='gbtree', colsample_bylevel=1,\n",
       "             colsample_bynode=1, colsample_bytree=1, gamma=0, gpu_id=-1,\n",
       "             importance_type='gain', interaction_constraints='',\n",
       "             learning_rate=0.300000012, max_delta_step=0, max_depth=6,\n",
       "             min_child_weight=1, missing=nan, monotone_constraints='()',\n",
       "             n_estimators=50, n_jobs=4, num_parallel_tree=1, random_state=0,\n",
       "             reg_alpha=0, reg_lambda=1, scale_pos_weight=1, subsample=1,\n",
       "             tree_method='exact', validate_parameters=1, verbosity=None)"
      ]
     },
     "execution_count": 24,
     "metadata": {},
     "output_type": "execute_result"
    }
   ],
   "source": [
    "xgboost.fit(X_train,Y_train)"
   ]
  },
  {
   "cell_type": "code",
   "execution_count": 25,
   "metadata": {},
   "outputs": [],
   "source": [
    "predictions5=xgboost.predict(X_test)"
   ]
  },
  {
   "cell_type": "code",
   "execution_count": 26,
   "metadata": {},
   "outputs": [
    {
     "name": "stdout",
     "output_type": "stream",
     "text": [
      "Mean Absolute Error: 0.49 degrees.\n",
      "Accuracy: 91.12 %.\n",
      "MSE : 0.44004860484659186\n",
      "RMSE : 0.6633615943409686\n",
      "R2 Score :  0.6264418622433701\n"
     ]
    }
   ],
   "source": [
    "#Calulate Error\n",
    "errors5 = abs(predictions5 - Y_test)\n",
    "\n",
    "#Calculate Mean Absolute Error\n",
    "MAE5 = round(np.mean(errors5), 2)\n",
    "print('Mean Absolute Error:', MAE5 , 'degrees.')\n",
    "\n",
    "#Calculate Mean Absolute Percentage Error (MAPE)\n",
    "mape = 100 * (errors5 / Y_test)\n",
    "\n",
    "#Calculate  Accuracy\n",
    "accuracy5 = 100 - np.mean(mape)\n",
    "print('Accuracy:', round(accuracy5, 2), '%.')\n",
    "\n",
    "#Calulate Mean Squared Error \n",
    "MSE5 = np.square(np.subtract(Y_test,predictions5)).mean()\n",
    "print(\"MSE : {}\".format(MSE5))\n",
    "\n",
    "#Calculate Root Mean Squared Method\n",
    "RMSE5 = math.sqrt(MSE5)\n",
    "print(\"RMSE : {}\".format(RMSE5))\n",
    "\n",
    "#Calculate R2 Score\n",
    "rsquared5 = r2_score(Y_test,predictions5)\n",
    "print(\"R2 Score : \",rsquared5)"
   ]
  },
  {
   "cell_type": "markdown",
   "metadata": {},
   "source": [
    "### Linear Regression -------------->"
   ]
  },
  {
   "cell_type": "code",
   "execution_count": 27,
   "metadata": {},
   "outputs": [
    {
     "data": {
      "text/plain": [
       "LinearRegression()"
      ]
     },
     "execution_count": 27,
     "metadata": {},
     "output_type": "execute_result"
    }
   ],
   "source": [
    "lr = LinearRegression()\n",
    "lr.fit(X_train,Y_train)"
   ]
  },
  {
   "cell_type": "code",
   "execution_count": 28,
   "metadata": {},
   "outputs": [],
   "source": [
    "predictions1=xgboost.predict(X_test)"
   ]
  },
  {
   "cell_type": "code",
   "execution_count": 30,
   "metadata": {},
   "outputs": [
    {
     "name": "stdout",
     "output_type": "stream",
     "text": [
      "Mean Absolute Error: 0.49 degrees.\n",
      "Accuracy: 91.12 %.\n",
      "MSE : 0.44004860484659186\n",
      "RMSE : 0.6633615943409686\n",
      "R2 Score :  0.6264418622433701\n"
     ]
    }
   ],
   "source": [
    "#Calulate Error\n",
    "errors1 = abs(predictions1 - Y_test)\n",
    "\n",
    "#Calculate Mean Absolute Error\n",
    "MAE1 = round(np.mean(errors1), 2)\n",
    "print('Mean Absolute Error:', MAE1 , 'degrees.')\n",
    "\n",
    "#Calculate Mean Absolute Percentage Error (MAPE)\n",
    "mape = 100 * (errors1 / Y_test)\n",
    "\n",
    "#Calculate  Accuracy\n",
    "accuracy1 = 100 - np.mean(mape)\n",
    "print('Accuracy:', round(accuracy1, 2), '%.')\n",
    "\n",
    "#Calulate Mean Squared Error \n",
    "MSE1 = np.square(np.subtract(Y_test,predictions1)).mean()\n",
    "print(\"MSE : {}\".format(MSE1))\n",
    "\n",
    "#Calculate Root Mean Squared Method\n",
    "RMSE1 = math.sqrt(MSE1)\n",
    "print(\"RMSE : {}\".format(RMSE1))\n",
    "\n",
    "#Calculate R2 Score\n",
    "rsquared1 = r2_score(Y_test,predictions1)\n",
    "print(\"R2 Score : \",rsquared1)"
   ]
  },
  {
   "cell_type": "markdown",
   "metadata": {},
   "source": [
    "# Comparison Graph ( r2 score of Regressors )"
   ]
  },
  {
   "cell_type": "code",
   "execution_count": 31,
   "metadata": {},
   "outputs": [
    {
     "data": {
      "image/png": "[encoded data removed]",
      "text/plain": [
       "<Figure size 432x288 with 1 Axes>"
      ]
     },
     "metadata": {
      "needs_background": "light"
     },
     "output_type": "display_data"
    }
   ],
   "source": [
    "algos_reg = ['LR','DT','SVM','RF','XGboost']\n",
    "r2 = [rsquared1,rsquared2,rsquared3,rsquared4,rsquared5]\n",
    "plt.bar(algos_reg,r2, color=['firebrick','green','blue','cyan','purple'],width=0.2)\n",
    "plt.xlabel(\"Algorithms\")\n",
    "plt.ylabel(\"r2 score\")\n",
    "plt.title('Regressor Algorithms with their respective r2 score')\n",
    "plt.show()"
   ]
  },
  {
   "cell_type": "markdown",
   "metadata": {},
   "source": [
    "# Comparison of RMSE Score of Regressors"
   ]
  },
  {
   "cell_type": "code",
   "execution_count": 32,
   "metadata": {},
   "outputs": [
    {
     "data": {
      "text/html": [
       "<div>\n",
       "<style scoped>\n",
       "    .dataframe tbody tr th:only-of-type {\n",
       "        vertical-align: middle;\n",
       "    }\n",
       "\n",
       "    .dataframe tbody tr th {\n",
       "        vertical-align: top;\n",
       "    }\n",
       "\n",
       "    .dataframe thead th {\n",
       "        text-align: right;\n",
       "    }\n",
       "</style>\n",
       "<table border=\"1\" class=\"dataframe\">\n",
       "  <thead>\n",
       "    <tr style=\"text-align: right;\">\n",
       "      <th></th>\n",
       "      <th>Model</th>\n",
       "    </tr>\n",
       "    <tr>\n",
       "      <th>RMSE Score</th>\n",
       "      <th></th>\n",
       "    </tr>\n",
       "  </thead>\n",
       "  <tbody>\n",
       "    <tr>\n",
       "      <th>0.663362</th>\n",
       "      <td>XG Boost Regressor</td>\n",
       "    </tr>\n",
       "    <tr>\n",
       "      <th>0.663362</th>\n",
       "      <td>Linear Regression</td>\n",
       "    </tr>\n",
       "    <tr>\n",
       "      <th>0.705937</th>\n",
       "      <td>Random Forest Regressor</td>\n",
       "    </tr>\n",
       "    <tr>\n",
       "      <th>1.035115</th>\n",
       "      <td>Decision Tree Regressor</td>\n",
       "    </tr>\n",
       "    <tr>\n",
       "      <th>1.038626</th>\n",
       "      <td>Support Vector Machine</td>\n",
       "    </tr>\n",
       "  </tbody>\n",
       "</table>\n",
       "</div>"
      ],
      "text/plain": [
       "                              Model\n",
       "RMSE Score                         \n",
       "0.663362         XG Boost Regressor\n",
       "0.663362          Linear Regression\n",
       "0.705937    Random Forest Regressor\n",
       "1.035115    Decision Tree Regressor\n",
       "1.038626     Support Vector Machine"
      ]
     },
     "execution_count": 32,
     "metadata": {},
     "output_type": "execute_result"
    }
   ],
   "source": [
    "results1 = pd.DataFrame({\n",
    "    'Model' :[\n",
    "        'XG Boost Regressor',\n",
    "        'Random Forest Regressor',\n",
    "        'Support Vector Machine',\n",
    "        'Decision Tree Regressor',\n",
    "        'Linear Regression'\n",
    "    ],\n",
    "    'RMSE Score':[RMSE5,RMSE4,RMSE3,RMSE2,RMSE1]})\n",
    "\n",
    "result_df = results1.sort_values(by='RMSE Score', ascending= True)\n",
    "result_df = result_df.set_index('RMSE Score')\n",
    "result_df.head(9)"
   ]
  },
  {
   "cell_type": "markdown",
   "metadata": {},
   "source": [
    "# Comparison of MAE Score of Regressors"
   ]
  },
  {
   "cell_type": "code",
   "execution_count": 33,
   "metadata": {},
   "outputs": [
    {
     "data": {
      "text/html": [
       "<div>\n",
       "<style scoped>\n",
       "    .dataframe tbody tr th:only-of-type {\n",
       "        vertical-align: middle;\n",
       "    }\n",
       "\n",
       "    .dataframe tbody tr th {\n",
       "        vertical-align: top;\n",
       "    }\n",
       "\n",
       "    .dataframe thead th {\n",
       "        text-align: right;\n",
       "    }\n",
       "</style>\n",
       "<table border=\"1\" class=\"dataframe\">\n",
       "  <thead>\n",
       "    <tr style=\"text-align: right;\">\n",
       "      <th></th>\n",
       "      <th>Model</th>\n",
       "    </tr>\n",
       "    <tr>\n",
       "      <th>MAE Score</th>\n",
       "      <th></th>\n",
       "    </tr>\n",
       "  </thead>\n",
       "  <tbody>\n",
       "    <tr>\n",
       "      <th>0.49</th>\n",
       "      <td>XG Boost Regressor</td>\n",
       "    </tr>\n",
       "    <tr>\n",
       "      <th>0.49</th>\n",
       "      <td>Linear Regression</td>\n",
       "    </tr>\n",
       "    <tr>\n",
       "      <th>0.52</th>\n",
       "      <td>Random Forest Regressor</td>\n",
       "    </tr>\n",
       "    <tr>\n",
       "      <th>0.74</th>\n",
       "      <td>Decision Tree Regressor</td>\n",
       "    </tr>\n",
       "    <tr>\n",
       "      <th>0.78</th>\n",
       "      <td>Support Vector Machine</td>\n",
       "    </tr>\n",
       "  </tbody>\n",
       "</table>\n",
       "</div>"
      ],
      "text/plain": [
       "                             Model\n",
       "MAE Score                         \n",
       "0.49            XG Boost Regressor\n",
       "0.49             Linear Regression\n",
       "0.52       Random Forest Regressor\n",
       "0.74       Decision Tree Regressor\n",
       "0.78        Support Vector Machine"
      ]
     },
     "execution_count": 33,
     "metadata": {},
     "output_type": "execute_result"
    }
   ],
   "source": [
    "results2 = pd.DataFrame({\n",
    "    'Model' :[\n",
    "        'XG Boost Regressor',\n",
    "        'Random Forest Regressor',\n",
    "        'Support Vector Machine',\n",
    "        'Decision Tree Regressor',\n",
    "        'Linear Regression'\n",
    "    ],\n",
    "    'MAE Score':[MAE5,MAE4,MAE3,MAE2,MAE1]})\n",
    "\n",
    "result_df = results2.sort_values(by='MAE Score', ascending= True)\n",
    "result_df = result_df.set_index('MAE Score')\n",
    "result_df.head(9)"
   ]
  },
  {
   "cell_type": "markdown",
   "metadata": {},
   "source": [
    "# Comparison of Accuracy of Regressors"
   ]
  },
  {
   "cell_type": "code",
   "execution_count": 34,
   "metadata": {},
   "outputs": [
    {
     "data": {
      "text/html": [
       "<div>\n",
       "<style scoped>\n",
       "    .dataframe tbody tr th:only-of-type {\n",
       "        vertical-align: middle;\n",
       "    }\n",
       "\n",
       "    .dataframe tbody tr th {\n",
       "        vertical-align: top;\n",
       "    }\n",
       "\n",
       "    .dataframe thead th {\n",
       "        text-align: right;\n",
       "    }\n",
       "</style>\n",
       "<table border=\"1\" class=\"dataframe\">\n",
       "  <thead>\n",
       "    <tr style=\"text-align: right;\">\n",
       "      <th></th>\n",
       "      <th>Model</th>\n",
       "    </tr>\n",
       "    <tr>\n",
       "      <th>Accuracy</th>\n",
       "      <th></th>\n",
       "    </tr>\n",
       "  </thead>\n",
       "  <tbody>\n",
       "    <tr>\n",
       "      <th>85.772064</th>\n",
       "      <td>Support Vector Machine</td>\n",
       "    </tr>\n",
       "    <tr>\n",
       "      <th>86.992170</th>\n",
       "      <td>Decision Tree Regressor</td>\n",
       "    </tr>\n",
       "    <tr>\n",
       "      <th>90.543682</th>\n",
       "      <td>Random Forest Regressor</td>\n",
       "    </tr>\n",
       "    <tr>\n",
       "      <th>91.122359</th>\n",
       "      <td>XG Boost Regressor</td>\n",
       "    </tr>\n",
       "    <tr>\n",
       "      <th>91.122359</th>\n",
       "      <td>Linear Regression</td>\n",
       "    </tr>\n",
       "  </tbody>\n",
       "</table>\n",
       "</div>"
      ],
      "text/plain": [
       "                             Model\n",
       "Accuracy                          \n",
       "85.772064   Support Vector Machine\n",
       "86.992170  Decision Tree Regressor\n",
       "90.543682  Random Forest Regressor\n",
       "91.122359       XG Boost Regressor\n",
       "91.122359        Linear Regression"
      ]
     },
     "execution_count": 34,
     "metadata": {},
     "output_type": "execute_result"
    }
   ],
   "source": [
    "results3 = pd.DataFrame({\n",
    "    'Model' :[\n",
    "        'XG Boost Regressor',\n",
    "        'Random Forest Regressor',\n",
    "        'Support Vector Machine',\n",
    "        'Decision Tree Regressor',\n",
    "        'Linear Regression'\n",
    "    ],\n",
    "    'Accuracy':[accuracy5,accuracy4,accuracy3,accuracy2,accuracy1]})\n",
    "\n",
    "result_df = results3.sort_values(by='Accuracy', ascending= True)\n",
    "result_df = result_df.set_index('Accuracy')\n",
    "result_df.head(9)"
   ]
  },
  {
   "cell_type": "markdown",
   "metadata": {},
   "source": [
    "#  Comparison of R2 Score of Regressors"
   ]
  },
  {
   "cell_type": "code",
   "execution_count": 38,
   "metadata": {},
   "outputs": [
    {
     "data": {
      "text/html": [
       "<div>\n",
       "<style scoped>\n",
       "    .dataframe tbody tr th:only-of-type {\n",
       "        vertical-align: middle;\n",
       "    }\n",
       "\n",
       "    .dataframe tbody tr th {\n",
       "        vertical-align: top;\n",
       "    }\n",
       "\n",
       "    .dataframe thead th {\n",
       "        text-align: right;\n",
       "    }\n",
       "</style>\n",
       "<table border=\"1\" class=\"dataframe\">\n",
       "  <thead>\n",
       "    <tr style=\"text-align: right;\">\n",
       "      <th></th>\n",
       "      <th>Model</th>\n",
       "    </tr>\n",
       "    <tr>\n",
       "      <th>R2 Score</th>\n",
       "      <th></th>\n",
       "    </tr>\n",
       "  </thead>\n",
       "  <tbody>\n",
       "    <tr>\n",
       "      <th>0.084252</th>\n",
       "      <td>Support Vector Machine</td>\n",
       "    </tr>\n",
       "    <tr>\n",
       "      <th>0.090433</th>\n",
       "      <td>Decision Tree Regressor</td>\n",
       "    </tr>\n",
       "    <tr>\n",
       "      <th>0.576952</th>\n",
       "      <td>Random Forest Regressor</td>\n",
       "    </tr>\n",
       "    <tr>\n",
       "      <th>0.626442</th>\n",
       "      <td>XG Boost Regressor</td>\n",
       "    </tr>\n",
       "    <tr>\n",
       "      <th>0.626442</th>\n",
       "      <td>Linear Regression</td>\n",
       "    </tr>\n",
       "  </tbody>\n",
       "</table>\n",
       "</div>"
      ],
      "text/plain": [
       "                            Model\n",
       "R2 Score                         \n",
       "0.084252   Support Vector Machine\n",
       "0.090433  Decision Tree Regressor\n",
       "0.576952  Random Forest Regressor\n",
       "0.626442       XG Boost Regressor\n",
       "0.626442        Linear Regression"
      ]
     },
     "execution_count": 38,
     "metadata": {},
     "output_type": "execute_result"
    }
   ],
   "source": [
    "results4 = pd.DataFrame({\n",
    "    'Model' :[\n",
    "        'XG Boost Regressor',\n",
    "        'Random Forest Regressor',\n",
    "        'Support Vector Machine',\n",
    "        'Decision Tree Regressor',\n",
    "        'Linear Regression'\n",
    "    ],\n",
    "    'R2 Score':[rsquared5,rsquared4,rsquared3,rsquared2,rsquared1]})\n",
    "\n",
    "result_df = results4.sort_values(by='R2 Score', ascending= True)\n",
    "result_df = result_df.set_index('R2 Score')\n",
    "result_df.head(9)"
   ]
  },
  {
   "cell_type": "code",
   "execution_count": null,
   "metadata": {},
   "outputs": [],
   "source": []
  }
 ],
 "metadata": {
  "kernelspec": {
   "display_name": "Python 3",
   "language": "python",
   "name": "python3"
  },
  "language_info": {
   "codemirror_mode": {
    "name": "ipython",
    "version": 3
   },
   "file_extension": ".py",
   "mimetype": "text/x-python",
   "name": "python",
   "nbconvert_exporter": "python",
   "pygments_lexer": "ipython3",
   "version": "3.8.5"
  }
 },
 "nbformat": 4,
 "nbformat_minor": 4
}
